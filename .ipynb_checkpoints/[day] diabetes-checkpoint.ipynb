{
 "cells": [
  {
   "cell_type": "code",
   "execution_count": 5,
   "metadata": {},
   "outputs": [],
   "source": [
    "import pandas as pd\n",
    "input_data = pd.read_csv(\"diabetes.tab.txt\", sep='\\t', header=[0])"
   ]
  },
  {
   "cell_type": "code",
   "execution_count": 8,
   "metadata": {},
   "outputs": [
    {
     "name": "stdout",
     "output_type": "stream",
     "text": [
      "AGE     48.518100\n",
      "SEX      1.468326\n",
      "BMI     26.375792\n",
      "BP      94.647014\n",
      "S1     189.140271\n",
      "S2     115.439140\n",
      "S3      49.788462\n",
      "S4       4.070249\n",
      "S5       4.641411\n",
      "S6      91.260181\n",
      "Y      152.133484\n",
      "dtype: float64\n",
      "AGE     87.845183\n",
      "SEX      2.967009\n",
      "BMI     39.630157\n",
      "BP     136.140864\n",
      "S1     292.964427\n",
      "S2     206.678383\n",
      "S3      88.591068\n",
      "S4       7.941599\n",
      "S5       6.208583\n",
      "S6     125.749185\n",
      "Y      383.412498\n",
      "dtype: float64\n",
      "AGE     9.191016\n",
      "SEX    -0.030358\n",
      "BMI    13.121427\n",
      "BP     53.153163\n",
      "S1     85.316116\n",
      "S2     24.199897\n",
      "S3     10.985855\n",
      "S4      0.198899\n",
      "S5      3.074239\n",
      "S6     56.771177\n",
      "Y     -79.145529\n",
      "dtype: float64\n"
     ]
    }
   ],
   "source": [
    "print(input_data.mean())\n",
    "input_data_std = input_data.std(0)*3\n",
    "upper_input_data = input_data.mean() + input_data.std(0) * 3\n",
    "lower_input_data = input_data.mean() - input_data.std(0) * 3\n",
    "\n",
    "print(upper_input_data)\n",
    "print(lower_input_data)\n"
   ]
  },
  {
   "cell_type": "code",
   "execution_count": 9,
   "metadata": {},
   "outputs": [
    {
     "ename": "NameError",
     "evalue": "name 'model_diabetes' is not defined",
     "output_type": "error",
     "traceback": [
      "\u001b[1;31m---------------------------------------------------------------------------\u001b[0m",
      "\u001b[1;31mNameError\u001b[0m                                 Traceback (most recent call last)",
      "\u001b[1;32m<ipython-input-9-cb1e5afb81d7>\u001b[0m in \u001b[0;36m<module>\u001b[1;34m\u001b[0m\n\u001b[1;32m----> 1\u001b[1;33m \u001b[0mmodel_diabetes\u001b[0m\u001b[1;33m.\u001b[0m\u001b[0mcoef_\u001b[0m\u001b[1;33m\u001b[0m\u001b[1;33m\u001b[0m\u001b[0m\n\u001b[0m",
      "\u001b[1;31mNameError\u001b[0m: name 'model_diabetes' is not defined"
     ]
    }
   ],
   "source": [
    "model_diabetes.coef_"
   ]
  },
  {
   "cell_type": "code",
   "execution_count": null,
   "metadata": {},
   "outputs": [],
   "source": []
  }
 ],
 "metadata": {
  "kernelspec": {
   "display_name": "Python 3",
   "language": "python",
   "name": "python3"
  },
  "language_info": {
   "codemirror_mode": {
    "name": "ipython",
    "version": 3
   },
   "file_extension": ".py",
   "mimetype": "text/x-python",
   "name": "python",
   "nbconvert_exporter": "python",
   "pygments_lexer": "ipython3",
   "version": "3.7.4"
  }
 },
 "nbformat": 4,
 "nbformat_minor": 2
}
