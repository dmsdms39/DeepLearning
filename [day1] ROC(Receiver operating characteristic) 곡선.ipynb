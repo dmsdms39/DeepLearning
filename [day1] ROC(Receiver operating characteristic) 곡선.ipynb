{
 "cells": [
  {
   "cell_type": "code",
   "execution_count": 50,
   "metadata": {},
   "outputs": [],
   "source": [
    "import numpy as np\n",
    "import matplotlib.pyplot as plt\n",
    "%matplotlib inline\n"
   ]
  },
  {
   "cell_type": "code",
   "execution_count": 63,
   "metadata": {},
   "outputs": [
    {
     "data": {
      "text/plain": [
       "array([ 0,  1,  2,  3,  4,  5,  6,  7,  8,  9, 10, 11])"
      ]
     },
     "execution_count": 63,
     "metadata": {},
     "output_type": "execute_result"
    }
   ],
   "source": [
    "m1 = np.array([[1, 0.97, 1],[2, 0.86, 1],[3, 0.75, 0],[4, 0.75, 0],[5, 0.66, 1]])\n",
    "m1"
   ]
  },
  {
   "cell_type": "code",
   "execution_count": 79,
   "metadata": {},
   "outputs": [
    {
     "data": {
      "text/plain": [
       "[[1, 0.97, 1, 0, 0],\n",
       " [2, 0.86, 1, 0, 0],\n",
       " [3, 0.75, 0, 0, 0],\n",
       " [4, 0.75, 0, 0, 0],\n",
       " [5, 0.66, 1, 0, 0]]"
      ]
     },
     "execution_count": 79,
     "metadata": {},
     "output_type": "execute_result"
    }
   ],
   "source": [
    "target=[[1, 0.97, 1],[2, 0.86, 1],[3, 0.75, 0],[4, 0.75, 0],[5, 0.66, 1]]\n",
    "\n",
    "for i in range(0,5):\n",
    "    target[i].append(0)\n",
    "    target[i].append(0)\n",
    "    \n",
    "target"
   ]
  },
  {
   "cell_type": "code",
   "execution_count": 75,
   "metadata": {},
   "outputs": [],
   "source": [
    "a = np.array([[0.97, 1,0,0],\n",
    "            [0.86,1,0,0],\n",
    "            [0.75,0,0,0],\n",
    "            [0.71,0,0,0],\n",
    "            [0.66,1,0,0]])\n"
   ]
  },
  {
   "cell_type": "code",
   "execution_count": 76,
   "metadata": {},
   "outputs": [],
   "source": [
    "tar_c=0\n",
    "far_c=0\n"
   ]
  },
  {
   "cell_type": "code",
   "execution_count": 53,
   "metadata": {},
   "outputs": [],
   "source": [
    "for i in range(len(a)):\n",
    "    if a[i][1]==1:\n",
    "        tar_c+=1\n",
    "    else:\n",
    "        far_c+=1\n"
   ]
  },
  {
   "cell_type": "code",
   "execution_count": 58,
   "metadata": {},
   "outputs": [
    {
     "name": "stdout",
     "output_type": "stream",
     "text": [
      "3\n",
      "2\n"
     ]
    }
   ],
   "source": [
    "print(tar_c)\n",
    "print(far_c)\n",
    "tar_t = tar_c\n",
    "far_t = far_c\n",
    "tar_c=0\n",
    "far_c=0\n"
   ]
  },
  {
   "cell_type": "code",
   "execution_count": 59,
   "metadata": {},
   "outputs": [],
   "source": [
    "for i in range(len(a)):\n",
    "    if a[i][1]==1:\n",
    "        tar_c+=1\n",
    "    else:\n",
    "         far_c+=1\n",
    "    a[i][2]=(tar_c)/(tar_t)\n",
    "    a[i][3]=(far_c)/(far_t)\n"
   ]
  },
  {
   "cell_type": "code",
   "execution_count": 64,
   "metadata": {},
   "outputs": [
    {
     "data": {
      "text/plain": [
       "[0.3333333333333333,\n",
       " 0.6666666666666666,\n",
       " 0.6666666666666666,\n",
       " 0.6666666666666666,\n",
       " 1.0]"
      ]
     },
     "execution_count": 64,
     "metadata": {},
     "output_type": "execute_result"
    }
   ],
   "source": [
    "t = a[0]\n",
    "y1 = []\n",
    "y2 = []\n",
    "for i in range(len(a)):\n",
    "    y1.append(a[i][2])\n",
    "    y2.append(a[i][3])"
   ]
  },
  {
   "cell_type": "code",
   "execution_count": 61,
   "metadata": {},
   "outputs": [
    {
     "data": {
      "image/png": "[encoded data removed]",
      "text/plain": [
       "<Figure size 432x288 with 1 Axes>"
      ]
     },
     "metadata": {
      "needs_background": "light"
     },
     "output_type": "display_data"
    }
   ],
   "source": [
    "plt.plot(y2,y1, 'rs--')\n",
    "plt.grid()\n",
    "plt.xlabel('FAR')\n",
    "plt.ylabel('TAR')\n",
    "plt.title('ROC')\n",
    "plt.show()"
   ]
  },
  {
   "cell_type": "code",
   "execution_count": null,
   "metadata": {},
   "outputs": [],
   "source": []
  },
  {
   "cell_type": "code",
   "execution_count": null,
   "metadata": {},
   "outputs": [],
   "source": []
  },
  {
   "cell_type": "code",
   "execution_count": null,
   "metadata": {},
   "outputs": [],
   "source": []
  }
 ],
 "metadata": {
  "kernelspec": {
   "display_name": "Python 3",
   "language": "python",
   "name": "python3"
  },
  "language_info": {
   "codemirror_mode": {
    "name": "ipython",
    "version": 3
   },
   "file_extension": ".py",
   "mimetype": "text/x-python",
   "name": "python",
   "nbconvert_exporter": "python",
   "pygments_lexer": "ipython3",
   "version": "3.7.4"
  }
 },
 "nbformat": 4,
 "nbformat_minor": 2
}
